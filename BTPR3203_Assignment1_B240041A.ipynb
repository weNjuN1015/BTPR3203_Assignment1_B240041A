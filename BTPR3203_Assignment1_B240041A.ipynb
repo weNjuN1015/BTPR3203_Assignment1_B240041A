{
 "cells": [
  {
   "cell_type": "markdown",
   "metadata": {},
   "source": [
    "<h1>Assignment 1</h1>"
   ]
  },
  {
   "cell_type": "markdown",
   "metadata": {},
   "source": [
    "<h1>Case Study: Helping Hands Community Aid Program</h1>"
   ]
  },
  {
   "cell_type": "markdown",
   "metadata": {},
   "source": [
    "<h5>Name : Wong Wen Jun </h5>\n",
    "<h5>Student ID : B240041A</h5>\n",
    "<h5>Batch : BoS24-A2 </h5>"
   ]
  },
  {
   "cell_type": "markdown",
   "metadata": {},
   "source": [
    "# Part 1: Initial Setup & Inventory Management"
   ]
  },
  {
   "cell_type": "code",
   "execution_count": 2,
   "metadata": {},
   "outputs": [],
   "source": [
    "inventory_stock = {\n",
    "    'Food Package': 100,\n",
    "    'Hygiene Kit': 50,\n",
    "    'Blanket': 30\n",
    "}\n",
    "\n",
    "def add_or_update_item():\n",
    "    item_name = input(\"Enter item name: \").strip()\n",
    "    try:\n",
    "        quantity = int(input(\"Enter quantity: \"))\n",
    "    except ValueError:\n",
    "        print(\"Invalid quantity. Must be an integer.\")\n",
    "        return\n",
    "    if item_name in inventory_stock:\n",
    "        inventory_stock[item_name] += quantity\n",
    "        print(f\"Stock for {item_name} updated. New quantity: {inventory_stock[item_name]}\")\n",
    "    else:\n",
    "        inventory_stock[item_name] = quantity\n",
    "        print(f\"New item {item_name} added with quantity: {quantity}\")\n",
    "\n",
    "def display_inventory():\n",
    "    print(\"\\n--- Current Inventory ---\")\n",
    "    for item, qty in inventory_stock.items():\n",
    "        print(f\"{item}: {qty} units\")\n",
    "    print(\"-------------------------\\n\")"
   ]
  },
  {
   "cell_type": "markdown",
   "metadata": {},
   "source": [
    "# Part 2: Beneficiary Registration & Tracking"
   ]
  },
  {
   "cell_type": "code",
   "execution_count": 3,
   "metadata": {},
   "outputs": [],
   "source": [
    "beneficiaries_list = []\n",
    "next_beneficiary_id = 1\n",
    "\n",
    "def register_beneficiary():\n",
    "    global next_beneficiary_id\n",
    "    name = input(\"Enter beneficiary name: \").strip()\n",
    "    if name == \"\":\n",
    "        print(\"Name cannot be empty.\")\n",
    "        return\n",
    "    beneficiary = {\n",
    "        'id': next_beneficiary_id,\n",
    "        'name': name,\n",
    "        'eligible': True\n",
    "    }\n",
    "    beneficiaries_list.append(beneficiary)\n",
    "    print(f\"Beneficiary registered. ID: {next_beneficiary_id}, Name: {name}\")\n",
    "    next_beneficiary_id += 1\n",
    "\n",
    "def update_eligibility():\n",
    "    try:\n",
    "        b_id = int(input(\"Enter beneficiary ID to update: \"))\n",
    "    except ValueError:\n",
    "        print(\"Invalid ID.\")\n",
    "        return\n",
    "    status = input(\"Enter new eligibility status (True/False): \").strip().lower()\n",
    "    if status not in ['true', 'false']:\n",
    "        print(\"Invalid input. Use True or False.\")\n",
    "        return\n",
    "    status = True if status == 'true' else False\n",
    "    for b in beneficiaries_list:\n",
    "        if b['id'] == b_id:\n",
    "            b['eligible'] = status\n",
    "            print(f\"Beneficiary ID {b_id} eligibility updated to {status}\")\n",
    "            return\n",
    "    print(f\"Beneficiary ID {b_id} not found.\")"
   ]
  },
  {
   "cell_type": "markdown",
   "metadata": {},
   "source": [
    "# Part 3: Item Distribution Process"
   ]
  },
  {
   "cell_type": "code",
   "execution_count": 4,
   "metadata": {},
   "outputs": [],
   "source": [
    "from datetime import datetime\n",
    "\n",
    "distribution_history = []\n",
    "\n",
    "def distribute_item():\n",
    "    try:\n",
    "        b_id = int(input(\"Enter beneficiary ID: \"))\n",
    "        item_name = input(\"Enter item name to distribute: \").strip()\n",
    "        quantity = int(input(\"Enter quantity to distribute: \"))\n",
    "    except ValueError:\n",
    "        print(\"Invalid input.\")\n",
    "        return\n",
    "    beneficiary = next((b for b in beneficiaries_list if b['id'] == b_id), None)\n",
    "    if not beneficiary:\n",
    "        print(f\"Beneficiary ID {b_id} not found.\")\n",
    "        return\n",
    "    if not beneficiary['eligible']:\n",
    "        print(f\"Beneficiary ID {b_id} is not eligible for aid.\")\n",
    "        return\n",
    "    if item_name not in inventory_stock:\n",
    "        print(f\"Item {item_name} does not exist in inventory.\")\n",
    "        return\n",
    "    if inventory_stock[item_name] < quantity:\n",
    "        print(f\"Not enough stock of {item_name}. Available: {inventory_stock[item_name]}\")\n",
    "        return\n",
    "    inventory_stock[item_name] -= quantity\n",
    "    timestamp = datetime.now().strftime(\"%Y-%m-%d %H:%M:%S\")\n",
    "    distribution_history.append((timestamp, b_id, item_name, quantity))\n",
    "    print(f\"Successfully distributed {quantity} of {item_name} to Beneficiary ID {b_id}.\")"
   ]
  },
  {
   "cell_type": "markdown",
   "metadata": {},
   "source": [
    "# Part 4: Reporting & Summary"
   ]
  },
  {
   "cell_type": "code",
   "execution_count": 5,
   "metadata": {},
   "outputs": [],
   "source": [
    "def generate_reports():\n",
    "    print(\"\\n--- Report Summary ---\")\n",
    "    unique_beneficiaries = set()\n",
    "    item_totals = {}\n",
    "    for record in distribution_history:\n",
    "        _, b_id, item, qty = record\n",
    "        unique_beneficiaries.add(b_id)\n",
    "        item_totals[item] = item_totals.get(item, 0) + qty\n",
    "    print(f\"Total unique beneficiaries served: {len(unique_beneficiaries)}\")\n",
    "    if item_totals:\n",
    "        print(\"Total items distributed:\")\n",
    "        for item, total in item_totals.items():\n",
    "            print(f\" - {item}: {total} units\")\n",
    "    else:\n",
    "        print(\"No distributions made yet.\")\n",
    "    out_of_stock = [item for item, qty in inventory_stock.items() if qty == 0]\n",
    "    if out_of_stock:\n",
    "        print(\"Out of stock items:\")\n",
    "        for item in out_of_stock:\n",
    "            print(f\" - {item}\")\n",
    "    else:\n",
    "        print(\"All items are currently in stock.\")\n",
    "    print(\"------------------------\\n\")"
   ]
  },
  {
   "cell_type": "markdown",
   "metadata": {},
   "source": [
    "# Main Menu"
   ]
  },
  {
   "cell_type": "code",
   "execution_count": null,
   "metadata": {},
   "outputs": [],
   "source": [
    "def main_menu():\n",
    "    while True:\n",
    "        print(\"==== Helping Hands Aid Management ====\")\n",
    "        print(\"1. Add/Update Item Stock\")\n",
    "        print(\"2. Display Current Inventory\")\n",
    "        print(\"3. Register Beneficiary\")\n",
    "        print(\"4. Update Beneficiary Eligibility\")\n",
    "        print(\"5. Distribute Item\")\n",
    "        print(\"6. Generate Reports\")\n",
    "        print(\"0. Exit Program\")\n",
    "        choice = input(\"Enter your choice: \").strip()\n",
    "        if choice == '1':\n",
    "            add_or_update_item()\n",
    "        elif choice == '2':\n",
    "            display_inventory()\n",
    "        elif choice == '3':\n",
    "            register_beneficiary()\n",
    "        elif choice == '4':\n",
    "            update_eligibility()\n",
    "        elif choice == '5':\n",
    "            distribute_item()\n",
    "        elif choice == '6':\n",
    "            generate_reports()\n",
    "        elif choice == '0':\n",
    "            print(\"Exiting program. Goodbye!\")\n",
    "            break\n",
    "        else:\n",
    "            print(\"Invalid choice. Please try again.\\n\")\n",
    "\n",
    "main_menu()"
   ]
  }
 ],
 "metadata": {
  "kernelspec": {
   "display_name": "Python [conda env:base] *",
   "language": "python",
   "name": "conda-base-py"
  },
  "language_info": {
   "codemirror_mode": {
    "name": "ipython",
    "version": 3
   },
   "file_extension": ".py",
   "mimetype": "text/x-python",
   "name": "python",
   "nbconvert_exporter": "python",
   "pygments_lexer": "ipython3",
   "version": "3.12.7"
  }
 },
 "nbformat": 4,
 "nbformat_minor": 4
}
